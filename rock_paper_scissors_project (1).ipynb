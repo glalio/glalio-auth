{
 "cells": [
  {
   "cell_type": "code",
   "execution_count": 3,
   "id": "73848051",
   "metadata": {},
   "outputs": [
    {
     "name": "stdout",
     "output_type": "stream",
     "text": [
      "Extracted files: ['paper', 'README_rpc-cv-images.txt', 'rock', 'rps-cv-images', 'scissors']\n"
     ]
    }
   ],
   "source": [
    "import zipfile\n",
    "import os\n",
    "\n",
    "# Specify the zip file name\n",
    "zip_file = 'archive (3).zip'\n",
    "\n",
    "# Specify the destination folder\n",
    "extract_folder = './my_subfolder'\n",
    "\n",
    "with zipfile.ZipFile(zip_file, 'r') as zip_ref:\n",
    "    zip_ref.extractall(extract_folder)\n",
    "\n",
    "# List the contents of the extracted folder\n",
    "extracted_files = os.listdir(extract_folder)\n",
    "print(f\"Extracted files: {extracted_files}\")"
   ]
  },
  {
   "cell_type": "code",
   "execution_count": 4,
   "id": "07205990",
   "metadata": {},
   "outputs": [
    {
     "name": "stdout",
     "output_type": "stream",
     "text": [
      "Requirement already satisfied: tqdm in c:\\users\\yorgos\\anaconda3\\lib\\site-packages (4.65.0)\n",
      "Requirement already satisfied: colorama in c:\\users\\yorgos\\anaconda3\\lib\\site-packages (from tqdm) (0.4.6)\n",
      "Note: you may need to restart the kernel to use updated packages.\n"
     ]
    },
    {
     "name": "stderr",
     "output_type": "stream",
     "text": [
      "\n",
      "[notice] A new release of pip is available: 23.3.1 -> 23.3.2\n",
      "[notice] To update, run: python.exe -m pip install --upgrade pip\n"
     ]
    }
   ],
   "source": [
    "pip install tqdm"
   ]
  },
  {
   "cell_type": "code",
   "execution_count": 8,
   "id": "8a00bc8b",
   "metadata": {
    "scrolled": true
   },
   "outputs": [
    {
     "name": "stderr",
     "output_type": "stream",
     "text": [
      "Processing rock images: 100%|███████████████████████████████████████████████████████| 726/726 [00:01<00:00, 551.14it/s]\n",
      "Processing paper images: 100%|██████████████████████████████████████████████████████| 712/712 [00:01<00:00, 569.88it/s]\n",
      "Processing scissors images: 100%|███████████████████████████████████████████████████| 750/750 [00:01<00:00, 570.21it/s]"
     ]
    },
    {
     "name": "stdout",
     "output_type": "stream",
     "text": [
      "Image processing completed.\n"
     ]
    },
    {
     "name": "stderr",
     "output_type": "stream",
     "text": [
      "\n"
     ]
    }
   ],
   "source": [
    "import cv2\n",
    "import os\n",
    "from tqdm import tqdm  # Optional: Progress bar for visual feedback\n",
    "\n",
    "# Define the destination folder for processed images\n",
    "processed_folder = './processed_images/'\n",
    "\n",
    "# Create the processed folder if it doesn't exist\n",
    "os.makedirs(processed_folder, exist_ok=True)\n",
    "\n",
    "# Define the folders containing rock, paper, and scissor images\n",
    "folders = ['rock', 'paper', 'scissors']\n",
    "\n",
    "# Resize images to 60x40 and convert to grayscale\n",
    "target_width = 60\n",
    "\n",
    "# Calculate the corresponding target height to maintain the aspect ratio\n",
    "target_height = int((2/3) * target_width)\n",
    "\n",
    "\n",
    "for folder in folders:\n",
    "    folder_path = os.path.join('./my_subfolder', folder)\n",
    "    \n",
    "    # Create a subfolder in the processed folder for each category\n",
    "    processed_category_folder = os.path.join(processed_folder, folder)\n",
    "    os.makedirs(processed_category_folder, exist_ok=True)\n",
    "\n",
    "    # List all files in the current category folder\n",
    "    image_files = [f for f in os.listdir(folder_path) if f.endswith('.png')]\n",
    "\n",
    "    # Process each image in the current category\n",
    "    for image_file in tqdm(image_files, desc=f\"Processing {folder} images\"):\n",
    "        # Read the original image\n",
    "        image_path = os.path.join(folder_path, image_file)\n",
    "        original_image = cv2.imread(image_path, cv2.IMREAD_GRAYSCALE)\n",
    "\n",
    "        # Resize the image while maintaining the aspect ratio\n",
    "        resized_image = cv2.resize(original_image, (target_width, target_height))\n",
    "\n",
    "        # Save the processed image to the destination folder\n",
    "        processed_image_path = os.path.join(processed_category_folder, image_file)\n",
    "        cv2.imwrite(processed_image_path, resized_image)\n",
    "    \n",
    "print(\"Image processing completed.\")"
   ]
  },
  {
   "cell_type": "code",
   "execution_count": 1,
   "id": "ea2015ee",
   "metadata": {
    "scrolled": true
   },
   "outputs": [
    {
     "name": "stdout",
     "output_type": "stream",
     "text": [
      "Shape of x_train: (1750, 40, 60)\n",
      "Shape of x_test: (438, 40, 60)\n",
      "Shape of y_train: (1750,)\n",
      "Shape of y_test: (438,)\n"
     ]
    }
   ],
   "source": [
    "from sklearn.model_selection import train_test_split\n",
    "import os\n",
    "import cv2\n",
    "import numpy as np\n",
    "# Define the path to the processed_images folder\n",
    "processed_folder = './processed_images/'\n",
    "\n",
    "# Define the categories (subfolders) in the processed_images folder\n",
    "categories = ['rock', 'scissors', 'paper']\n",
    "\n",
    "# Initialize lists to store flattened images and corresponding labels\n",
    "all_images = []\n",
    "labels = []\n",
    "\n",
    "# Loop through each category\n",
    "for category in categories:\n",
    "    category_folder = os.path.join(processed_folder, category)\n",
    "\n",
    "    # Loop through each image in the category folder\n",
    "    for image_file in os.listdir(category_folder):\n",
    "        if image_file.endswith('.png'):\n",
    "            # Load the image in grayscale\n",
    "            image_path = os.path.join(category_folder, image_file)\n",
    "            grayscale_image = cv2.imread(image_path, cv2.IMREAD_GRAYSCALE)\n",
    "\n",
    "            all_images.append(grayscale_image)\n",
    "\n",
    "            # Append the corresponding label (category index) to the labels list\n",
    "            labels.append(categories.index(category))\n",
    "\n",
    "# Convert lists to NumPy arrays\n",
    "all_images_array = np.array(all_images)\n",
    "labels_array = np.array(labels)           \n",
    "            \n",
    "# Use train_test_split to split the dataset\n",
    "x_train, x_test, y_train, y_test = train_test_split(\n",
    "    all_images_array,  # Features (flattened images)\n",
    "    labels_array,  # Labels (category indices)\n",
    "    test_size=0.2,  # 80% training, 20% testing\n",
    "    stratify=labels_array,  # Ensure same class distribution in both sets\n",
    ")\n",
    "\n",
    "# Print the shapes of the resulting sets\n",
    "print(\"Shape of x_train:\", x_train.shape)\n",
    "print(\"Shape of x_test:\", x_test.shape)\n",
    "print(\"Shape of y_train:\", y_train.shape)\n",
    "print(\"Shape of y_test:\", y_test.shape)"
   ]
  },
  {
   "cell_type": "code",
   "execution_count": 2,
   "id": "14202e23",
   "metadata": {},
   "outputs": [],
   "source": [
    "def preprocess_image(image, vertical_flip_prob=0.5, horizontal_flip_prob=0.5, noise_mean=0, noise_std=0.05):\n",
    "    # Apply Vertical Flip with probability p\n",
    "    if np.random.rand() < vertical_flip_prob:\n",
    "        image = cv2.flip(image, 0)\n",
    "\n",
    "    # Apply Horizontal Flip with probability p\n",
    "    if np.random.rand() < horizontal_flip_prob:\n",
    "        image = cv2.flip(image, 1)\n",
    "    \n",
    "   \n",
    "    image = image/255.0\n",
    "    # Add Gaussian noise\n",
    "    noise = np.random.normal(loc=noise_mean, scale=noise_std, size=image.shape)\n",
    "    noise = noise.astype(image.dtype)\n",
    "    noisy_image = np.clip(image + noise, 0, 1)\n",
    "\n",
    "\n",
    "    return noisy_image\n",
    "\n",
    "# Example usage:\n",
    "# Load your image using cv2.imread() or any other method\n",
    "# Assuming 'loaded_image' is your loaded image\n",
    "# Make sure to adjust the file path accordingly\n",
    "\n",
    "\n",
    "# Preprocess the image\n",
    "#preprocessed_image = preprocess_image(x_test[0])\n",
    "\n",
    "# Display the original and preprocessed images for comparison\n",
    "#cv2.imshow(\"Original Image\", x_test[0])\n",
    "#v2.imshow(\"Preprocessed Image\", preprocessed_image)\n",
    "#cv2.waitKey(0)\n",
    "#cv2.destroyAllWindows()"
   ]
  },
  {
   "cell_type": "code",
   "execution_count": null,
   "id": "01429f14",
   "metadata": {},
   "outputs": [],
   "source": []
  },
  {
   "cell_type": "code",
   "execution_count": 3,
   "id": "df5bb9f3",
   "metadata": {},
   "outputs": [
    {
     "name": "stdout",
     "output_type": "stream",
     "text": [
      "Shape of flattened_images_array: (1750, 2400)\n",
      "Shape of labels_array: (1750,)\n"
     ]
    }
   ],
   "source": [
    "import numpy as np\n",
    "\n",
    "# Define the path to the processed_images folder\n",
    "processed_folder = './processed_images/'\n",
    "\n",
    "# Define the categories (subfolders) in the processed_images folder\n",
    "categories = ['rock', 'scissors', 'paper']\n",
    "\n",
    "# Initialize lists to store flattened images and corresponding labels\n",
    "flattened_images = []\n",
    "labels = []\n",
    "\n",
    "\n",
    "x_train_flattened = x_train.reshape(len(x_train),-1)\n",
    "\n",
    "# Convert lists to NumPy arrays\n",
    "flattened_images_array = np.array(flattened_images)\n",
    "\n",
    "x_train_flattened  = x_train_flattened/255.0\n",
    "# Print the shapes of the arrays\n",
    "print(\"Shape of flattened_images_array:\", x_train_flattened.shape)\n",
    "print(\"Shape of labels_array:\", y_train.shape)"
   ]
  },
  {
   "cell_type": "code",
   "execution_count": 21,
   "id": "be079699",
   "metadata": {},
   "outputs": [
    {
     "name": "stdout",
     "output_type": "stream",
     "text": [
      "Unique labels in y_test: [0 1 2]\n",
      "Label frequencies in y_test: [145 150 143]\n"
     ]
    }
   ],
   "source": [
    "unique_labels_test, label_counts_test = np.unique(y_test, return_counts=True)\n",
    "\n",
    "# Print the unique labels and their frequencies\n",
    "print(\"Unique labels in y_test:\", unique_labels_test)\n",
    "print(\"Label frequencies in y_test:\", label_counts_test)"
   ]
  },
  {
   "cell_type": "code",
   "execution_count": 39,
   "id": "5ebb7baa",
   "metadata": {},
   "outputs": [
    {
     "name": "stdout",
     "output_type": "stream",
     "text": [
      "Best Hyperparameters: {'C': 10, 'gamma': 0.1}\n"
     ]
    }
   ],
   "source": [
    "#SVM\n",
    "from sklearn.model_selection import GridSearchCV\n",
    "from sklearn.svm import SVC\n",
    "from sklearn.metrics import accuracy_score\n",
    "\n",
    "\n",
    "# Define the parameter grid for the grid search\n",
    "param_grid = {\n",
    "    'C': [0.01, 0.1, 1, 10, 50],\n",
    "    'gamma': [0.001, 0.01, 0.1, 1],\n",
    "}\n",
    "\n",
    "# Create an SVM classifier with RBF kernel\n",
    "svm_model = SVC(kernel='rbf')\n",
    "\n",
    "# Create a GridSearchCV object\n",
    "grid_search = GridSearchCV(estimator=svm_model, param_grid=param_grid, scoring='accuracy', cv=5)\n",
    "\n",
    "# Fit the grid search to the data\n",
    "grid_search.fit(x_train_flattened, y_train)\n",
    "\n",
    "# Print the best hyperparameters\n",
    "print(\"Best Hyperparameters:\", grid_search.best_params_)\n",
    "\n",
    "# Get the best model\n",
    "best_svm_model = grid_search.best_estimator_\n"
   ]
  },
  {
   "cell_type": "code",
   "execution_count": 10,
   "id": "2f9110eb",
   "metadata": {},
   "outputs": [
    {
     "ename": "KeyboardInterrupt",
     "evalue": "",
     "output_type": "error",
     "traceback": [
      "\u001b[1;31m---------------------------------------------------------------------------\u001b[0m",
      "\u001b[1;31mKeyboardInterrupt\u001b[0m                         Traceback (most recent call last)",
      "Cell \u001b[1;32mIn[10], line 20\u001b[0m\n\u001b[0;32m     18\u001b[0m \u001b[38;5;66;03m# Use GridSearchCV for hyperparameter tuning\u001b[39;00m\n\u001b[0;32m     19\u001b[0m grid_search \u001b[38;5;241m=\u001b[39m GridSearchCV(rf_model, param_grid, cv\u001b[38;5;241m=\u001b[39m\u001b[38;5;241m3\u001b[39m, scoring\u001b[38;5;241m=\u001b[39m\u001b[38;5;124m'\u001b[39m\u001b[38;5;124maccuracy\u001b[39m\u001b[38;5;124m'\u001b[39m, n_jobs\u001b[38;5;241m=\u001b[39m\u001b[38;5;241m-\u001b[39m\u001b[38;5;241m1\u001b[39m)\n\u001b[1;32m---> 20\u001b[0m grid_search\u001b[38;5;241m.\u001b[39mfit(x_train_flattened, y_train)\n\u001b[0;32m     22\u001b[0m \u001b[38;5;66;03m# Print the best hyperparameters\u001b[39;00m\n\u001b[0;32m     23\u001b[0m \u001b[38;5;28mprint\u001b[39m(\u001b[38;5;124m\"\u001b[39m\u001b[38;5;124mBest Hyperparameters:\u001b[39m\u001b[38;5;124m\"\u001b[39m, grid_search\u001b[38;5;241m.\u001b[39mbest_params_)\n",
      "File \u001b[1;32m~\\anaconda3\\Lib\\site-packages\\sklearn\\base.py:1151\u001b[0m, in \u001b[0;36m_fit_context.<locals>.decorator.<locals>.wrapper\u001b[1;34m(estimator, *args, **kwargs)\u001b[0m\n\u001b[0;32m   1144\u001b[0m     estimator\u001b[38;5;241m.\u001b[39m_validate_params()\n\u001b[0;32m   1146\u001b[0m \u001b[38;5;28;01mwith\u001b[39;00m config_context(\n\u001b[0;32m   1147\u001b[0m     skip_parameter_validation\u001b[38;5;241m=\u001b[39m(\n\u001b[0;32m   1148\u001b[0m         prefer_skip_nested_validation \u001b[38;5;129;01mor\u001b[39;00m global_skip_validation\n\u001b[0;32m   1149\u001b[0m     )\n\u001b[0;32m   1150\u001b[0m ):\n\u001b[1;32m-> 1151\u001b[0m     \u001b[38;5;28;01mreturn\u001b[39;00m fit_method(estimator, \u001b[38;5;241m*\u001b[39margs, \u001b[38;5;241m*\u001b[39m\u001b[38;5;241m*\u001b[39mkwargs)\n",
      "File \u001b[1;32m~\\anaconda3\\Lib\\site-packages\\sklearn\\model_selection\\_search.py:898\u001b[0m, in \u001b[0;36mBaseSearchCV.fit\u001b[1;34m(self, X, y, groups, **fit_params)\u001b[0m\n\u001b[0;32m    892\u001b[0m     results \u001b[38;5;241m=\u001b[39m \u001b[38;5;28mself\u001b[39m\u001b[38;5;241m.\u001b[39m_format_results(\n\u001b[0;32m    893\u001b[0m         all_candidate_params, n_splits, all_out, all_more_results\n\u001b[0;32m    894\u001b[0m     )\n\u001b[0;32m    896\u001b[0m     \u001b[38;5;28;01mreturn\u001b[39;00m results\n\u001b[1;32m--> 898\u001b[0m \u001b[38;5;28mself\u001b[39m\u001b[38;5;241m.\u001b[39m_run_search(evaluate_candidates)\n\u001b[0;32m    900\u001b[0m \u001b[38;5;66;03m# multimetric is determined here because in the case of a callable\u001b[39;00m\n\u001b[0;32m    901\u001b[0m \u001b[38;5;66;03m# self.scoring the return type is only known after calling\u001b[39;00m\n\u001b[0;32m    902\u001b[0m first_test_score \u001b[38;5;241m=\u001b[39m all_out[\u001b[38;5;241m0\u001b[39m][\u001b[38;5;124m\"\u001b[39m\u001b[38;5;124mtest_scores\u001b[39m\u001b[38;5;124m\"\u001b[39m]\n",
      "File \u001b[1;32m~\\anaconda3\\Lib\\site-packages\\sklearn\\model_selection\\_search.py:1419\u001b[0m, in \u001b[0;36mGridSearchCV._run_search\u001b[1;34m(self, evaluate_candidates)\u001b[0m\n\u001b[0;32m   1417\u001b[0m \u001b[38;5;28;01mdef\u001b[39;00m \u001b[38;5;21m_run_search\u001b[39m(\u001b[38;5;28mself\u001b[39m, evaluate_candidates):\n\u001b[0;32m   1418\u001b[0m \u001b[38;5;250m    \u001b[39m\u001b[38;5;124;03m\"\"\"Search all candidates in param_grid\"\"\"\u001b[39;00m\n\u001b[1;32m-> 1419\u001b[0m     evaluate_candidates(ParameterGrid(\u001b[38;5;28mself\u001b[39m\u001b[38;5;241m.\u001b[39mparam_grid))\n",
      "File \u001b[1;32m~\\anaconda3\\Lib\\site-packages\\sklearn\\model_selection\\_search.py:845\u001b[0m, in \u001b[0;36mBaseSearchCV.fit.<locals>.evaluate_candidates\u001b[1;34m(candidate_params, cv, more_results)\u001b[0m\n\u001b[0;32m    837\u001b[0m \u001b[38;5;28;01mif\u001b[39;00m \u001b[38;5;28mself\u001b[39m\u001b[38;5;241m.\u001b[39mverbose \u001b[38;5;241m>\u001b[39m \u001b[38;5;241m0\u001b[39m:\n\u001b[0;32m    838\u001b[0m     \u001b[38;5;28mprint\u001b[39m(\n\u001b[0;32m    839\u001b[0m         \u001b[38;5;124m\"\u001b[39m\u001b[38;5;124mFitting \u001b[39m\u001b[38;5;132;01m{0}\u001b[39;00m\u001b[38;5;124m folds for each of \u001b[39m\u001b[38;5;132;01m{1}\u001b[39;00m\u001b[38;5;124m candidates,\u001b[39m\u001b[38;5;124m\"\u001b[39m\n\u001b[0;32m    840\u001b[0m         \u001b[38;5;124m\"\u001b[39m\u001b[38;5;124m totalling \u001b[39m\u001b[38;5;132;01m{2}\u001b[39;00m\u001b[38;5;124m fits\u001b[39m\u001b[38;5;124m\"\u001b[39m\u001b[38;5;241m.\u001b[39mformat(\n\u001b[0;32m    841\u001b[0m             n_splits, n_candidates, n_candidates \u001b[38;5;241m*\u001b[39m n_splits\n\u001b[0;32m    842\u001b[0m         )\n\u001b[0;32m    843\u001b[0m     )\n\u001b[1;32m--> 845\u001b[0m out \u001b[38;5;241m=\u001b[39m parallel(\n\u001b[0;32m    846\u001b[0m     delayed(_fit_and_score)(\n\u001b[0;32m    847\u001b[0m         clone(base_estimator),\n\u001b[0;32m    848\u001b[0m         X,\n\u001b[0;32m    849\u001b[0m         y,\n\u001b[0;32m    850\u001b[0m         train\u001b[38;5;241m=\u001b[39mtrain,\n\u001b[0;32m    851\u001b[0m         test\u001b[38;5;241m=\u001b[39mtest,\n\u001b[0;32m    852\u001b[0m         parameters\u001b[38;5;241m=\u001b[39mparameters,\n\u001b[0;32m    853\u001b[0m         split_progress\u001b[38;5;241m=\u001b[39m(split_idx, n_splits),\n\u001b[0;32m    854\u001b[0m         candidate_progress\u001b[38;5;241m=\u001b[39m(cand_idx, n_candidates),\n\u001b[0;32m    855\u001b[0m         \u001b[38;5;241m*\u001b[39m\u001b[38;5;241m*\u001b[39mfit_and_score_kwargs,\n\u001b[0;32m    856\u001b[0m     )\n\u001b[0;32m    857\u001b[0m     \u001b[38;5;28;01mfor\u001b[39;00m (cand_idx, parameters), (split_idx, (train, test)) \u001b[38;5;129;01min\u001b[39;00m product(\n\u001b[0;32m    858\u001b[0m         \u001b[38;5;28menumerate\u001b[39m(candidate_params), \u001b[38;5;28menumerate\u001b[39m(cv\u001b[38;5;241m.\u001b[39msplit(X, y, groups))\n\u001b[0;32m    859\u001b[0m     )\n\u001b[0;32m    860\u001b[0m )\n\u001b[0;32m    862\u001b[0m \u001b[38;5;28;01mif\u001b[39;00m \u001b[38;5;28mlen\u001b[39m(out) \u001b[38;5;241m<\u001b[39m \u001b[38;5;241m1\u001b[39m:\n\u001b[0;32m    863\u001b[0m     \u001b[38;5;28;01mraise\u001b[39;00m \u001b[38;5;167;01mValueError\u001b[39;00m(\n\u001b[0;32m    864\u001b[0m         \u001b[38;5;124m\"\u001b[39m\u001b[38;5;124mNo fits were performed. \u001b[39m\u001b[38;5;124m\"\u001b[39m\n\u001b[0;32m    865\u001b[0m         \u001b[38;5;124m\"\u001b[39m\u001b[38;5;124mWas the CV iterator empty? \u001b[39m\u001b[38;5;124m\"\u001b[39m\n\u001b[0;32m    866\u001b[0m         \u001b[38;5;124m\"\u001b[39m\u001b[38;5;124mWere there no candidates?\u001b[39m\u001b[38;5;124m\"\u001b[39m\n\u001b[0;32m    867\u001b[0m     )\n",
      "File \u001b[1;32m~\\anaconda3\\Lib\\site-packages\\sklearn\\utils\\parallel.py:65\u001b[0m, in \u001b[0;36mParallel.__call__\u001b[1;34m(self, iterable)\u001b[0m\n\u001b[0;32m     60\u001b[0m config \u001b[38;5;241m=\u001b[39m get_config()\n\u001b[0;32m     61\u001b[0m iterable_with_config \u001b[38;5;241m=\u001b[39m (\n\u001b[0;32m     62\u001b[0m     (_with_config(delayed_func, config), args, kwargs)\n\u001b[0;32m     63\u001b[0m     \u001b[38;5;28;01mfor\u001b[39;00m delayed_func, args, kwargs \u001b[38;5;129;01min\u001b[39;00m iterable\n\u001b[0;32m     64\u001b[0m )\n\u001b[1;32m---> 65\u001b[0m \u001b[38;5;28;01mreturn\u001b[39;00m \u001b[38;5;28msuper\u001b[39m()\u001b[38;5;241m.\u001b[39m\u001b[38;5;21m__call__\u001b[39m(iterable_with_config)\n",
      "File \u001b[1;32m~\\anaconda3\\Lib\\site-packages\\joblib\\parallel.py:1061\u001b[0m, in \u001b[0;36mParallel.__call__\u001b[1;34m(self, iterable)\u001b[0m\n\u001b[0;32m   1058\u001b[0m     \u001b[38;5;28mself\u001b[39m\u001b[38;5;241m.\u001b[39m_iterating \u001b[38;5;241m=\u001b[39m \u001b[38;5;28;01mFalse\u001b[39;00m\n\u001b[0;32m   1060\u001b[0m \u001b[38;5;28;01mwith\u001b[39;00m \u001b[38;5;28mself\u001b[39m\u001b[38;5;241m.\u001b[39m_backend\u001b[38;5;241m.\u001b[39mretrieval_context():\n\u001b[1;32m-> 1061\u001b[0m     \u001b[38;5;28mself\u001b[39m\u001b[38;5;241m.\u001b[39mretrieve()\n\u001b[0;32m   1062\u001b[0m \u001b[38;5;66;03m# Make sure that we get a last message telling us we are done\u001b[39;00m\n\u001b[0;32m   1063\u001b[0m elapsed_time \u001b[38;5;241m=\u001b[39m time\u001b[38;5;241m.\u001b[39mtime() \u001b[38;5;241m-\u001b[39m \u001b[38;5;28mself\u001b[39m\u001b[38;5;241m.\u001b[39m_start_time\n",
      "File \u001b[1;32m~\\anaconda3\\Lib\\site-packages\\joblib\\parallel.py:938\u001b[0m, in \u001b[0;36mParallel.retrieve\u001b[1;34m(self)\u001b[0m\n\u001b[0;32m    936\u001b[0m \u001b[38;5;28;01mtry\u001b[39;00m:\n\u001b[0;32m    937\u001b[0m     \u001b[38;5;28;01mif\u001b[39;00m \u001b[38;5;28mgetattr\u001b[39m(\u001b[38;5;28mself\u001b[39m\u001b[38;5;241m.\u001b[39m_backend, \u001b[38;5;124m'\u001b[39m\u001b[38;5;124msupports_timeout\u001b[39m\u001b[38;5;124m'\u001b[39m, \u001b[38;5;28;01mFalse\u001b[39;00m):\n\u001b[1;32m--> 938\u001b[0m         \u001b[38;5;28mself\u001b[39m\u001b[38;5;241m.\u001b[39m_output\u001b[38;5;241m.\u001b[39mextend(job\u001b[38;5;241m.\u001b[39mget(timeout\u001b[38;5;241m=\u001b[39m\u001b[38;5;28mself\u001b[39m\u001b[38;5;241m.\u001b[39mtimeout))\n\u001b[0;32m    939\u001b[0m     \u001b[38;5;28;01melse\u001b[39;00m:\n\u001b[0;32m    940\u001b[0m         \u001b[38;5;28mself\u001b[39m\u001b[38;5;241m.\u001b[39m_output\u001b[38;5;241m.\u001b[39mextend(job\u001b[38;5;241m.\u001b[39mget())\n",
      "File \u001b[1;32m~\\anaconda3\\Lib\\site-packages\\joblib\\_parallel_backends.py:542\u001b[0m, in \u001b[0;36mLokyBackend.wrap_future_result\u001b[1;34m(future, timeout)\u001b[0m\n\u001b[0;32m    539\u001b[0m \u001b[38;5;250m\u001b[39m\u001b[38;5;124;03m\"\"\"Wrapper for Future.result to implement the same behaviour as\u001b[39;00m\n\u001b[0;32m    540\u001b[0m \u001b[38;5;124;03mAsyncResults.get from multiprocessing.\"\"\"\u001b[39;00m\n\u001b[0;32m    541\u001b[0m \u001b[38;5;28;01mtry\u001b[39;00m:\n\u001b[1;32m--> 542\u001b[0m     \u001b[38;5;28;01mreturn\u001b[39;00m future\u001b[38;5;241m.\u001b[39mresult(timeout\u001b[38;5;241m=\u001b[39mtimeout)\n\u001b[0;32m    543\u001b[0m \u001b[38;5;28;01mexcept\u001b[39;00m CfTimeoutError \u001b[38;5;28;01mas\u001b[39;00m e:\n\u001b[0;32m    544\u001b[0m     \u001b[38;5;28;01mraise\u001b[39;00m \u001b[38;5;167;01mTimeoutError\u001b[39;00m \u001b[38;5;28;01mfrom\u001b[39;00m \u001b[38;5;21;01me\u001b[39;00m\n",
      "File \u001b[1;32m~\\anaconda3\\Lib\\concurrent\\futures\\_base.py:451\u001b[0m, in \u001b[0;36mFuture.result\u001b[1;34m(self, timeout)\u001b[0m\n\u001b[0;32m    448\u001b[0m \u001b[38;5;28;01melif\u001b[39;00m \u001b[38;5;28mself\u001b[39m\u001b[38;5;241m.\u001b[39m_state \u001b[38;5;241m==\u001b[39m FINISHED:\n\u001b[0;32m    449\u001b[0m     \u001b[38;5;28;01mreturn\u001b[39;00m \u001b[38;5;28mself\u001b[39m\u001b[38;5;241m.\u001b[39m__get_result()\n\u001b[1;32m--> 451\u001b[0m \u001b[38;5;28mself\u001b[39m\u001b[38;5;241m.\u001b[39m_condition\u001b[38;5;241m.\u001b[39mwait(timeout)\n\u001b[0;32m    453\u001b[0m \u001b[38;5;28;01mif\u001b[39;00m \u001b[38;5;28mself\u001b[39m\u001b[38;5;241m.\u001b[39m_state \u001b[38;5;129;01min\u001b[39;00m [CANCELLED, CANCELLED_AND_NOTIFIED]:\n\u001b[0;32m    454\u001b[0m     \u001b[38;5;28;01mraise\u001b[39;00m CancelledError()\n",
      "File \u001b[1;32m~\\anaconda3\\Lib\\threading.py:320\u001b[0m, in \u001b[0;36mCondition.wait\u001b[1;34m(self, timeout)\u001b[0m\n\u001b[0;32m    318\u001b[0m \u001b[38;5;28;01mtry\u001b[39;00m:    \u001b[38;5;66;03m# restore state no matter what (e.g., KeyboardInterrupt)\u001b[39;00m\n\u001b[0;32m    319\u001b[0m     \u001b[38;5;28;01mif\u001b[39;00m timeout \u001b[38;5;129;01mis\u001b[39;00m \u001b[38;5;28;01mNone\u001b[39;00m:\n\u001b[1;32m--> 320\u001b[0m         waiter\u001b[38;5;241m.\u001b[39macquire()\n\u001b[0;32m    321\u001b[0m         gotit \u001b[38;5;241m=\u001b[39m \u001b[38;5;28;01mTrue\u001b[39;00m\n\u001b[0;32m    322\u001b[0m     \u001b[38;5;28;01melse\u001b[39;00m:\n",
      "\u001b[1;31mKeyboardInterrupt\u001b[0m: "
     ]
    }
   ],
   "source": [
    "#RANDOM FOREST\n",
    "from sklearn.model_selection import GridSearchCV\n",
    "from sklearn.ensemble import RandomForestClassifier\n",
    "from sklearn.metrics import accuracy_score\n",
    "\n",
    "\n",
    "# Define the Random Forest classifier\n",
    "rf_model = RandomForestClassifier()\n",
    "\n",
    "# Define the hyperparameters to search\n",
    "param_grid = {\n",
    "    'n_estimators': [10, 25, 50, 100, 200],\n",
    "    'max_depth': [None, 5, 10, 20, 30],\n",
    "    'min_samples_split': [2, 4, 6, 10],\n",
    "    'min_samples_leaf': [1, 2, 4, 6]\n",
    "}\n",
    "\n",
    "# Use GridSearchCV for hyperparameter tuning\n",
    "grid_search = GridSearchCV(rf_model, param_grid, cv=3, scoring='accuracy', n_jobs=-1)\n",
    "grid_search.fit(x_train_flattened, y_train)\n",
    "\n",
    "# Print the best hyperparameters\n",
    "print(\"Best Hyperparameters:\", grid_search.best_params_)\n",
    "\n",
    "# Get the best model\n",
    "best_rf_model = grid_search.best_estimator_\n"
   ]
  },
  {
   "cell_type": "code",
   "execution_count": 13,
   "id": "fb8e5ac8",
   "metadata": {},
   "outputs": [
    {
     "name": "stdout",
     "output_type": "stream",
     "text": [
      "Accuracy on Test Set: 0.9611872146118722\n"
     ]
    }
   ],
   "source": [
    "x_test_flattened = x_test.reshape(len(x_test),-1)\n",
    "\n",
    "\n",
    "x_test_flattened  = x_test_flattened/255.0\n",
    "# Make predictions on the test set\n",
    "y_pred = best_rf_model.predict(x_test_flattened)\n",
    "\n",
    "# Evaluate the accuracy\n",
    "accuracy = accuracy_score(y_test, y_pred)\n",
    "print(\"Accuracy on Test Set:\", accuracy)"
   ]
  },
  {
   "cell_type": "code",
   "execution_count": 26,
   "id": "42acee6d",
   "metadata": {},
   "outputs": [
    {
     "data": {
      "text/plain": [
       "(438, 2400)"
      ]
     },
     "execution_count": 26,
     "metadata": {},
     "output_type": "execute_result"
    }
   ],
   "source": [
    "x_test_flattened.shape"
   ]
  },
  {
   "cell_type": "code",
   "execution_count": 4,
   "id": "022bcb06",
   "metadata": {
    "scrolled": false
   },
   "outputs": [
    {
     "name": "stderr",
     "output_type": "stream",
     "text": [
      "C:\\Users\\YORGOS\\AppData\\Local\\Temp\\ipykernel_22796\\2745186027.py:20: DeprecationWarning: KerasClassifier is deprecated, use Sci-Keras (https://github.com/adriangb/scikeras) instead. See https://www.adriangb.com/scikeras/stable/migration.html for help migrating.\n",
      "  keras_model = KerasClassifier(build_fn=create_model, epochs=10, batch_size=32, verbose=0)\n"
     ]
    },
    {
     "name": "stdout",
     "output_type": "stream",
     "text": [
      "Best parameters found:  {'batch_size': 64, 'epochs': 100}\n"
     ]
    }
   ],
   "source": [
    "#NEURAL NETWORK\n",
    "from keras.wrappers.scikit_learn import KerasClassifier\n",
    "from sklearn.model_selection import GridSearchCV\n",
    "from keras.models import Sequential\n",
    "from keras.layers import Dense, Flatten\n",
    "from keras.losses import categorical_crossentropy\n",
    "# Function to create the model\n",
    "def create_model():\n",
    "    model = Sequential([\n",
    "        Flatten(input_shape=(2400,)),\n",
    "        Dense(128, activation='relu'),\n",
    "        Dense(64, activation='relu'),\n",
    "        Dense(3, activation='softmax')\n",
    "    ])\n",
    "    \n",
    "    model.compile(optimizer='adam', loss='categorical_crossentropy', metrics=['accuracy'])\n",
    "    return model\n",
    "\n",
    "# Create a KerasClassifier based on your function\n",
    "keras_model = KerasClassifier(build_fn=create_model, epochs=10, batch_size=32, verbose=0)\n",
    "\n",
    "# Define the parameters for grid search\n",
    "param_grid = {\n",
    "    'epochs': [10, 20, 50 , 100],\n",
    "    'batch_size': [32, 64],\n",
    "}\n",
    "\n",
    "# Perform grid search\n",
    "grid = GridSearchCV(estimator=keras_model, param_grid=param_grid, cv=5)\n",
    "grid_result = grid.fit(x_train.reshape(len(x_train),-1), y_train)\n",
    "\n",
    "# Print the best parameters and results\n",
    "print(\"Best parameters found: \", grid_result.best_params_)"
   ]
  },
  {
   "cell_type": "code",
   "execution_count": 5,
   "id": "54baa65d",
   "metadata": {},
   "outputs": [],
   "source": [
    "best_model_cnn = grid_result.best_estimator_"
   ]
  },
  {
   "cell_type": "code",
   "execution_count": 119,
   "id": "0d1a4731",
   "metadata": {},
   "outputs": [
    {
     "data": {
      "text/plain": [
       "(1750, 2400)"
      ]
     },
     "execution_count": 119,
     "metadata": {},
     "output_type": "execute_result"
    }
   ],
   "source": [
    "x_train.reshape(len(x_train),-1).shape"
   ]
  },
  {
   "cell_type": "code",
   "execution_count": 107,
   "id": "be0f807e",
   "metadata": {},
   "outputs": [
    {
     "data": {
      "text/plain": [
       "<keras.src.engine.sequential.Sequential at 0x1da416c2fd0>"
      ]
     },
     "execution_count": 107,
     "metadata": {},
     "output_type": "execute_result"
    }
   ],
   "source": [
    "model_nn"
   ]
  },
  {
   "cell_type": "code",
   "execution_count": null,
   "id": "b4404e38",
   "metadata": {},
   "outputs": [],
   "source": [
    "MLPClassifier(hidden_layer_sizes=(128, 64), max_iter=100)"
   ]
  },
  {
   "cell_type": "code",
   "execution_count": 105,
   "id": "8758303d",
   "metadata": {},
   "outputs": [
    {
     "data": {
      "text/html": [
       "<style>#sk-container-id-1 {color: black;}#sk-container-id-1 pre{padding: 0;}#sk-container-id-1 div.sk-toggleable {background-color: white;}#sk-container-id-1 label.sk-toggleable__label {cursor: pointer;display: block;width: 100%;margin-bottom: 0;padding: 0.3em;box-sizing: border-box;text-align: center;}#sk-container-id-1 label.sk-toggleable__label-arrow:before {content: \"▸\";float: left;margin-right: 0.25em;color: #696969;}#sk-container-id-1 label.sk-toggleable__label-arrow:hover:before {color: black;}#sk-container-id-1 div.sk-estimator:hover label.sk-toggleable__label-arrow:before {color: black;}#sk-container-id-1 div.sk-toggleable__content {max-height: 0;max-width: 0;overflow: hidden;text-align: left;background-color: #f0f8ff;}#sk-container-id-1 div.sk-toggleable__content pre {margin: 0.2em;color: black;border-radius: 0.25em;background-color: #f0f8ff;}#sk-container-id-1 input.sk-toggleable__control:checked~div.sk-toggleable__content {max-height: 200px;max-width: 100%;overflow: auto;}#sk-container-id-1 input.sk-toggleable__control:checked~label.sk-toggleable__label-arrow:before {content: \"▾\";}#sk-container-id-1 div.sk-estimator input.sk-toggleable__control:checked~label.sk-toggleable__label {background-color: #d4ebff;}#sk-container-id-1 div.sk-label input.sk-toggleable__control:checked~label.sk-toggleable__label {background-color: #d4ebff;}#sk-container-id-1 input.sk-hidden--visually {border: 0;clip: rect(1px 1px 1px 1px);clip: rect(1px, 1px, 1px, 1px);height: 1px;margin: -1px;overflow: hidden;padding: 0;position: absolute;width: 1px;}#sk-container-id-1 div.sk-estimator {font-family: monospace;background-color: #f0f8ff;border: 1px dotted black;border-radius: 0.25em;box-sizing: border-box;margin-bottom: 0.5em;}#sk-container-id-1 div.sk-estimator:hover {background-color: #d4ebff;}#sk-container-id-1 div.sk-parallel-item::after {content: \"\";width: 100%;border-bottom: 1px solid gray;flex-grow: 1;}#sk-container-id-1 div.sk-label:hover label.sk-toggleable__label {background-color: #d4ebff;}#sk-container-id-1 div.sk-serial::before {content: \"\";position: absolute;border-left: 1px solid gray;box-sizing: border-box;top: 0;bottom: 0;left: 50%;z-index: 0;}#sk-container-id-1 div.sk-serial {display: flex;flex-direction: column;align-items: center;background-color: white;padding-right: 0.2em;padding-left: 0.2em;position: relative;}#sk-container-id-1 div.sk-item {position: relative;z-index: 1;}#sk-container-id-1 div.sk-parallel {display: flex;align-items: stretch;justify-content: center;background-color: white;position: relative;}#sk-container-id-1 div.sk-item::before, #sk-container-id-1 div.sk-parallel-item::before {content: \"\";position: absolute;border-left: 1px solid gray;box-sizing: border-box;top: 0;bottom: 0;left: 50%;z-index: -1;}#sk-container-id-1 div.sk-parallel-item {display: flex;flex-direction: column;z-index: 1;position: relative;background-color: white;}#sk-container-id-1 div.sk-parallel-item:first-child::after {align-self: flex-end;width: 50%;}#sk-container-id-1 div.sk-parallel-item:last-child::after {align-self: flex-start;width: 50%;}#sk-container-id-1 div.sk-parallel-item:only-child::after {width: 0;}#sk-container-id-1 div.sk-dashed-wrapped {border: 1px dashed gray;margin: 0 0.4em 0.5em 0.4em;box-sizing: border-box;padding-bottom: 0.4em;background-color: white;}#sk-container-id-1 div.sk-label label {font-family: monospace;font-weight: bold;display: inline-block;line-height: 1.2em;}#sk-container-id-1 div.sk-label-container {text-align: center;}#sk-container-id-1 div.sk-container {/* jupyter's `normalize.less` sets `[hidden] { display: none; }` but bootstrap.min.css set `[hidden] { display: none !important; }` so we also need the `!important` here to be able to override the default hidden behavior on the sphinx rendered scikit-learn.org. See: https://github.com/scikit-learn/scikit-learn/issues/21755 */display: inline-block !important;position: relative;}#sk-container-id-1 div.sk-text-repr-fallback {display: none;}</style><div id=\"sk-container-id-1\" class=\"sk-top-container\"><div class=\"sk-text-repr-fallback\"><pre>MLPClassifier(hidden_layer_sizes=(128, 64), max_iter=100)</pre><b>In a Jupyter environment, please rerun this cell to show the HTML representation or trust the notebook. <br />On GitHub, the HTML representation is unable to render, please try loading this page with nbviewer.org.</b></div><div class=\"sk-container\" hidden><div class=\"sk-item\"><div class=\"sk-estimator sk-toggleable\"><input class=\"sk-toggleable__control sk-hidden--visually\" id=\"sk-estimator-id-1\" type=\"checkbox\" checked><label for=\"sk-estimator-id-1\" class=\"sk-toggleable__label sk-toggleable__label-arrow\">MLPClassifier</label><div class=\"sk-toggleable__content\"><pre>MLPClassifier(hidden_layer_sizes=(128, 64), max_iter=100)</pre></div></div></div></div></div>"
      ],
      "text/plain": [
       "MLPClassifier(hidden_layer_sizes=(128, 64), max_iter=100)"
      ]
     },
     "execution_count": 105,
     "metadata": {},
     "output_type": "execute_result"
    }
   ],
   "source": [
    "best_dense_model"
   ]
  },
  {
   "cell_type": "code",
   "execution_count": 53,
   "id": "53faf83c",
   "metadata": {
    "scrolled": true
   },
   "outputs": [
    {
     "data": {
      "text/plain": [
       "<keras.src.callbacks.History at 0x1d9e03f7450>"
      ]
     },
     "execution_count": 53,
     "metadata": {},
     "output_type": "execute_result"
    }
   ],
   "source": [
    "import numpy as np\n",
    "from tensorflow.keras.models import Sequential\n",
    "from tensorflow.keras.layers import Conv2D, MaxPooling2D, Flatten, Dense\n",
    "from tensorflow.keras.utils import to_categorical\n",
    "\n",
    "# Build the CNN model\n",
    "model_cnn = Sequential([\n",
    "    Conv2D(32, kernel_size=(3, 3), activation='relu', input_shape=(40, 60, 1)),\n",
    "    MaxPooling2D(pool_size=(2, 2)),\n",
    "    Conv2D(64, kernel_size=(3, 3), activation='relu'),\n",
    "    MaxPooling2D(pool_size=(2, 2)),\n",
    "    Flatten(),\n",
    "    Dense(128, activation='relu'),\n",
    "    Dense(3, activation='softmax') \n",
    "])\n",
    "\n",
    "# Compile the model\n",
    "model_cnn.compile(optimizer='adam', loss='sparse_categorical_crossentropy', metrics=['accuracy'])\n",
    "x_train_reshaped = x_train.reshape(-1, 40, 60, 1)\n",
    "# Train the model\n",
    "model_cnn.fit(x_train_reshaped, y_train, epochs=100, batch_size=32,verbose=0)\n"
   ]
  },
  {
   "cell_type": "code",
   "execution_count": 92,
   "id": "a71dcba3",
   "metadata": {},
   "outputs": [
    {
     "data": {
      "text/plain": [
       "(1750,)"
      ]
     },
     "execution_count": 92,
     "metadata": {},
     "output_type": "execute_result"
    }
   ],
   "source": [
    "y_train.shape"
   ]
  },
  {
   "cell_type": "code",
   "execution_count": 101,
   "id": "fd36fc44",
   "metadata": {},
   "outputs": [
    {
     "name": "stdout",
     "output_type": "stream",
     "text": [
      "Give the number of rounds: 100\n"
     ]
    },
    {
     "name": "stderr",
     "output_type": "stream",
     "text": [
      "No artists with labels found to put in legend.  Note that artists whose label start with an underscore are ignored when legend() is called with no argument.\n"
     ]
    },
    {
     "data": {
      "text/plain": [
       "<matplotlib.legend.Legend at 0x1da415fd350>"
      ]
     },
     "execution_count": 101,
     "metadata": {},
     "output_type": "execute_result"
    },
    {
     "data": {
      "image/png": "[encoded data removed]",
      "text/plain": [
       "<Figure size 640x480 with 1 Axes>"
      ]
     },
     "metadata": {},
     "output_type": "display_data"
    }
   ],
   "source": [
    "import numpy as np\n",
    "import cv2\n",
    "t = []\n",
    "score_l = []\n",
    "n = input('Give the number of rounds: ')\n",
    "choices = ['rock', 'scissors', 'paper']\n",
    "score = 0\n",
    "right_recognition = 0\n",
    "wrong_recognition = 0\n",
    "txt = 'results_svm_rbf.txt'\n",
    "with open(txt,'w') as f:\n",
    "    for i in range(int(n)):\n",
    "        r = np.random.randint(0, len(x_test))\n",
    "        preprocessed_image = preprocess_image(x_test[r])\n",
    "        r_label = y_test[r]\n",
    "\n",
    "        pred = best_svm_model.predict(preprocessed_image.flatten().reshape(1,-1))[0]\n",
    "        print('',file=f)\n",
    "        print(f'Round {i+1}',file=f)\n",
    "        t.append(i)\n",
    "        if pred == 0:\n",
    "            my_agent = 2\n",
    "        elif pred == 1:\n",
    "            my_agent = 0\n",
    "        else:\n",
    "            my_agent = 1\n",
    "\n",
    "        if r_label == pred:\n",
    "            print('Right recognition',file=f)\n",
    "            score += 1\n",
    "            right_recognition+=1\n",
    "        else:\n",
    "            print('Wrong recognition',file=f)\n",
    "            wrong_recognition+=1\n",
    "            if my_agent != r_label:\n",
    "                score -= 1\n",
    "        score_l.append(score)\n",
    "        print(f\"The prediction of my agent is '{choices[pred]}'\",file=f)\n",
    "\n",
    "\n",
    "        print(f\"The choice of the random agent is '{choices[r_label]}'\",file=f)\n",
    "\n",
    "        print(10*\"==\"+'end of round'+10*\"==\",file=f)\n",
    "    \n",
    "    print('',file=f)\n",
    "    print(f'The score of agent is {score}',file=f)\n",
    "    print(f'Right recognitions are {right_recognition}',file=f)\n",
    "    print(f'Wrong recognitions are {wrong_recognition}',file=f)\n",
    "# Plotting the data\n",
    "plt.plot(t, score_l)\n",
    "\n",
    "# Adding labels to the axes\n",
    "plt.xlabel('Round')\n",
    "plt.ylabel('Score')\n",
    "\n",
    "# Adding a title to the plot\n",
    "plt.title('Score Diagram')\n",
    "\n",
    "# Adding a legend (optional)\n",
    "plt.legend()"
   ]
  },
  {
   "cell_type": "code",
   "execution_count": 102,
   "id": "a8adaf09",
   "metadata": {},
   "outputs": [
    {
     "name": "stdout",
     "output_type": "stream",
     "text": [
      "Give the number of rounds: 100\n"
     ]
    },
    {
     "name": "stderr",
     "output_type": "stream",
     "text": [
      "No artists with labels found to put in legend.  Note that artists whose label start with an underscore are ignored when legend() is called with no argument.\n"
     ]
    },
    {
     "data": {
      "text/plain": [
       "<matplotlib.legend.Legend at 0x1da4159b210>"
      ]
     },
     "execution_count": 102,
     "metadata": {},
     "output_type": "execute_result"
    },
    {
     "data": {
      "image/png": "[encoded data removed]",
      "text/plain": [
       "<Figure size 640x480 with 1 Axes>"
      ]
     },
     "metadata": {},
     "output_type": "display_data"
    }
   ],
   "source": [
    "import numpy as np\n",
    "import cv2\n",
    "t = []\n",
    "score_l = []\n",
    "n = input('Give the number of rounds: ')\n",
    "choices = ['rock', 'scissors', 'paper']\n",
    "score = 0\n",
    "right_recognition = 0\n",
    "wrong_recognition = 0\n",
    "txt = 'results_random_forest.txt'\n",
    "with open(txt,'w') as f:\n",
    "    for i in range(int(n)):\n",
    "        r = np.random.randint(0, len(x_test))\n",
    "        preprocessed_image = preprocess_image(x_test[r])\n",
    "        r_label = y_test[r]\n",
    "\n",
    "        pred = best_rf_model.predict(preprocessed_image.flatten().reshape(1,-1))[0]\n",
    "        print('',file=f)\n",
    "        print(f'Round {i+1}',file=f)\n",
    "        t.append(i)\n",
    "        if pred == 0:\n",
    "            my_agent = 2\n",
    "        elif pred == 1:\n",
    "            my_agent = 0\n",
    "        else:\n",
    "            my_agent = 1\n",
    "\n",
    "        if r_label == pred:\n",
    "            print('Right recognition',file=f)\n",
    "            score += 1\n",
    "            right_recognition+=1\n",
    "        else:\n",
    "            print('Wrong recognition',file=f)\n",
    "            wrong_recognition+=1\n",
    "            if my_agent != r_label:\n",
    "                score -= 1\n",
    "        score_l.append(score)\n",
    "        print(f\"The prediction of my agent is '{choices[pred]}'\",file=f)\n",
    "\n",
    "\n",
    "        print(f\"The choice of the random agent is '{choices[r_label]}'\",file=f)\n",
    "\n",
    "        print(10*\"==\"+'end of round'+10*\"==\",file=f)\n",
    "    \n",
    "    print('',file=f)\n",
    "    print(f'The score of agent is {score}',file=f)\n",
    "    print(f'Right recognitions are {right_recognition}',file=f)\n",
    "    print(f'Wrong recognitions are {wrong_recognition}',file=f)\n",
    "# Plotting the data\n",
    "plt.plot(t, score_l)\n",
    "\n",
    "# Adding labels to the axes\n",
    "plt.xlabel('Round')\n",
    "plt.ylabel('Score')\n",
    "\n",
    "# Adding a title to the plot\n",
    "plt.title('Score Diagram')\n",
    "\n",
    "# Adding a legend (optional)\n",
    "plt.legend()"
   ]
  },
  {
   "cell_type": "code",
   "execution_count": 31,
   "id": "61d20554",
   "metadata": {},
   "outputs": [
    {
     "data": {
      "text/plain": [
       "(1, 2400)"
      ]
     },
     "execution_count": 31,
     "metadata": {},
     "output_type": "execute_result"
    }
   ],
   "source": [
    "preprocessed_image.flatten().reshape(1,-1).shape"
   ]
  },
  {
   "cell_type": "code",
   "execution_count": 34,
   "id": "c2ea5aa6",
   "metadata": {},
   "outputs": [
    {
     "data": {
      "text/plain": [
       "2"
      ]
     },
     "execution_count": 34,
     "metadata": {},
     "output_type": "execute_result"
    }
   ],
   "source": [
    "best_rf_model.predict(preprocessed_image.flatten().reshape(1,-1))[0]"
   ]
  },
  {
   "cell_type": "code",
   "execution_count": 55,
   "id": "503f4007",
   "metadata": {
    "scrolled": true
   },
   "outputs": [
    {
     "name": "stdout",
     "output_type": "stream",
     "text": [
      "Give the number of rounds: 100\n"
     ]
    },
    {
     "name": "stderr",
     "output_type": "stream",
     "text": [
      "No artists with labels found to put in legend.  Note that artists whose label start with an underscore are ignored when legend() is called with no argument.\n"
     ]
    },
    {
     "data": {
      "text/plain": [
       "<matplotlib.legend.Legend at 0x1d9eff33390>"
      ]
     },
     "execution_count": 55,
     "metadata": {},
     "output_type": "execute_result"
    },
    {
     "data": {
      "image/png": "[encoded data removed]",
      "text/plain": [
       "<Figure size 640x480 with 1 Axes>"
      ]
     },
     "metadata": {},
     "output_type": "display_data"
    }
   ],
   "source": [
    "import numpy as np\n",
    "import cv2\n",
    "t = []\n",
    "score_l = []\n",
    "n = input('Give the number of rounds: ')\n",
    "choices = ['rock', 'scissors', 'paper']\n",
    "score = 0\n",
    "right_recognition = 0\n",
    "wrong_recognition = 0\n",
    "txt = 'results_neural_network.txt'\n",
    "with open(txt,'w') as f:\n",
    "    for i in range(int(n)):\n",
    "        r = np.random.randint(0, len(x_test))\n",
    "        preprocessed_image = preprocess_image(x_test[r])\n",
    "        r_label = y_test[r]\n",
    "\n",
    "        pred = np.argmax(model_nn.predict(preprocessed_image.flatten().reshape(1, -1), verbose=0))\n",
    "        print('',file=f)\n",
    "        print(f'Round {i+1}',file=f)\n",
    "\n",
    "        if pred == 0:\n",
    "            my_agent = 2\n",
    "        elif pred == 1:\n",
    "            my_agent = 0\n",
    "        else:\n",
    "            my_agent = 1\n",
    "        \n",
    "        t.append(i)\n",
    "        if r_label == pred:\n",
    "            print('Right recognition',file=f)\n",
    "            score += 1\n",
    "            right_recognition+=1\n",
    "        else:\n",
    "            print('Wrong recognition',file=f)\n",
    "            wrong_recognition+=1\n",
    "            if my_agent != r_label:\n",
    "                score -= 1\n",
    "        score_l.append(score)\n",
    "        print(f\"The prediction of my agent is '{choices[pred]}'\",file=f)\n",
    "\n",
    "\n",
    "        print(f\"The choice of the random agent is '{choices[r_label]}'\",file=f)\n",
    "\n",
    "        print(10*\"==\"+'end of round'+10*\"==\",file=f)\n",
    "    \n",
    "    print('',file=f)\n",
    "    print(f'The score of agent is {score}',file=f)\n",
    "    print(f'Right recognitions are {right_recognition}',file=f)\n",
    "    print(f'Wrong recognitions are {wrong_recognition}',file=f)\n",
    "# Plotting the data\n",
    "plt.plot(t, score_l)\n",
    "\n",
    "# Adding labels to the axes\n",
    "plt.xlabel('Round')\n",
    "plt.ylabel('Score')\n",
    "\n",
    "# Adding a title to the plot\n",
    "plt.title('Score Diagram')\n",
    "\n",
    "# Adding a legend (optional)\n",
    "plt.legend()"
   ]
  },
  {
   "cell_type": "code",
   "execution_count": 4,
   "id": "b905d926",
   "metadata": {},
   "outputs": [],
   "source": [
    "import matplotlib.pyplot as plt"
   ]
  },
  {
   "cell_type": "code",
   "execution_count": 56,
   "id": "e4a0a98a",
   "metadata": {
    "scrolled": true
   },
   "outputs": [
    {
     "name": "stdout",
     "output_type": "stream",
     "text": [
      "Give the number of rounds: 100\n"
     ]
    },
    {
     "name": "stderr",
     "output_type": "stream",
     "text": [
      "No artists with labels found to put in legend.  Note that artists whose label start with an underscore are ignored when legend() is called with no argument.\n"
     ]
    },
    {
     "data": {
      "text/plain": [
       "<matplotlib.legend.Legend at 0x1d9e2f5c3d0>"
      ]
     },
     "execution_count": 56,
     "metadata": {},
     "output_type": "execute_result"
    },
    {
     "data": {
      "image/png": "[encoded data removed]",
      "text/plain": [
       "<Figure size 640x480 with 1 Axes>"
      ]
     },
     "metadata": {},
     "output_type": "display_data"
    }
   ],
   "source": [
    "import numpy as np\n",
    "import cv2\n",
    "\n",
    "n = input('Give the number of rounds: ')\n",
    "choices = ['rock', 'scissors', 'paper']\n",
    "score = 0\n",
    "right_recognition = 0\n",
    "wrong_recognition = 0\n",
    "txt = 'results_cnn.txt'\n",
    "t = []\n",
    "score_l = []\n",
    "with open(txt,'w') as f:\n",
    "    for i in range(int(n)):\n",
    "        r = np.random.randint(0, len(x_test))\n",
    "        preprocessed_image = preprocess_image(x_test[r])\n",
    "        r_label = y_test[r]\n",
    "\n",
    "        pred = np.argmax(model_cnn.predict(preprocessed_image.reshape(1, 40, 60, 1), verbose=0))\n",
    "        print('',file=f)\n",
    "        print(f'Round {i+1}',file=f)\n",
    "\n",
    "        if pred == 0:\n",
    "            my_agent = 2\n",
    "        elif pred == 1:\n",
    "            my_agent = 0\n",
    "        else:\n",
    "            my_agent = 1\n",
    "        \n",
    "        t.append(i)\n",
    "        \n",
    "        if r_label == pred:\n",
    "            print('Right recognition',file=f)\n",
    "            score += 1\n",
    "            right_recognition+=1\n",
    "        else:\n",
    "            print('Wrong recognition',file=f)\n",
    "            wrong_recognition+=1\n",
    "            if my_agent != r_label:\n",
    "                score -= 1\n",
    "        score_l.append(score)\n",
    "        print(f\"The prediction of my agent is '{choices[pred]}'\",file=f)\n",
    "\n",
    "\n",
    "        print(f\"The choice of the random agent is '{choices[r_label]}'\",file=f)\n",
    "\n",
    "        print(10*\"==\"+'end of round'+10*\"==\",file=f)\n",
    "    \n",
    "    print('',file=f)\n",
    "    print(f'The score of agent is {score}',file=f)\n",
    "    print(f'Right recognitions are {right_recognition}',file=f)\n",
    "    print(f'Wrong recognitions are {wrong_recognition}',file=f)\n",
    "# Plotting the data\n",
    "plt.plot(t, score_l)\n",
    "\n",
    "# Adding labels to the axes\n",
    "plt.xlabel('Round')\n",
    "plt.ylabel('Score')\n",
    "\n",
    "# Adding a title to the plot\n",
    "plt.title('Score Diagram')\n",
    "\n",
    "# Adding a legend (optional)\n",
    "plt.legend()\n",
    "\n"
   ]
  },
  {
   "cell_type": "code",
   "execution_count": 9,
   "id": "bf2191d7",
   "metadata": {
    "scrolled": true
   },
   "outputs": [
    {
     "name": "stdout",
     "output_type": "stream",
     "text": [
      "Give the number of rounds: 100\n",
      "1/1 [==============================] - 0s 16ms/step\n",
      "1/1 [==============================] - 0s 17ms/step\n",
      "1/1 [==============================] - 0s 23ms/step\n",
      "1/1 [==============================] - 0s 16ms/step\n",
      "1/1 [==============================] - 0s 24ms/step\n",
      "1/1 [==============================] - 0s 23ms/step\n",
      "1/1 [==============================] - 0s 15ms/step\n",
      "1/1 [==============================] - 0s 22ms/step\n",
      "1/1 [==============================] - 0s 16ms/step\n",
      "1/1 [==============================] - 0s 21ms/step\n",
      "1/1 [==============================] - 0s 16ms/step\n",
      "1/1 [==============================] - 0s 22ms/step\n",
      "1/1 [==============================] - 0s 16ms/step\n",
      "1/1 [==============================] - 0s 21ms/step\n",
      "1/1 [==============================] - 0s 16ms/step\n",
      "1/1 [==============================] - 0s 24ms/step\n",
      "1/1 [==============================] - 0s 19ms/step\n",
      "1/1 [==============================] - 0s 25ms/step\n",
      "1/1 [==============================] - 0s 16ms/step\n",
      "1/1 [==============================] - 0s 24ms/step\n",
      "1/1 [==============================] - 0s 21ms/step\n",
      "1/1 [==============================] - 0s 27ms/step\n",
      "1/1 [==============================] - 0s 22ms/step\n",
      "1/1 [==============================] - 0s 28ms/step\n",
      "1/1 [==============================] - 0s 23ms/step\n",
      "1/1 [==============================] - 0s 16ms/step\n",
      "1/1 [==============================] - 0s 24ms/step\n",
      "1/1 [==============================] - 0s 20ms/step\n",
      "1/1 [==============================] - 0s 26ms/step\n",
      "1/1 [==============================] - 0s 18ms/step\n",
      "1/1 [==============================] - 0s 27ms/step\n",
      "1/1 [==============================] - 0s 23ms/step\n",
      "1/1 [==============================] - 0s 29ms/step\n",
      "1/1 [==============================] - 0s 19ms/step\n",
      "1/1 [==============================] - 0s 28ms/step\n",
      "1/1 [==============================] - 0s 23ms/step\n",
      "1/1 [==============================] - 0s 16ms/step\n",
      "1/1 [==============================] - 0s 24ms/step\n",
      "1/1 [==============================] - 0s 19ms/step\n",
      "1/1 [==============================] - 0s 26ms/step\n",
      "1/1 [==============================] - 0s 22ms/step\n",
      "1/1 [==============================] - 0s 27ms/step\n",
      "1/1 [==============================] - 0s 20ms/step\n",
      "1/1 [==============================] - 0s 26ms/step\n",
      "1/1 [==============================] - 0s 20ms/step\n",
      "1/1 [==============================] - 0s 27ms/step\n",
      "1/1 [==============================] - 0s 19ms/step\n",
      "1/1 [==============================] - 0s 15ms/step\n",
      "1/1 [==============================] - 0s 22ms/step\n",
      "1/1 [==============================] - 0s 15ms/step\n",
      "1/1 [==============================] - 0s 21ms/step\n",
      "1/1 [==============================] - 0s 15ms/step\n",
      "1/1 [==============================] - 0s 21ms/step\n",
      "1/1 [==============================] - 0s 16ms/step\n",
      "1/1 [==============================] - 0s 24ms/step\n",
      "1/1 [==============================] - 0s 16ms/step\n",
      "1/1 [==============================] - 0s 23ms/step\n",
      "1/1 [==============================] - 0s 15ms/step\n",
      "1/1 [==============================] - 0s 25ms/step\n",
      "1/1 [==============================] - 0s 21ms/step\n",
      "1/1 [==============================] - 0s 27ms/step\n",
      "1/1 [==============================] - 0s 23ms/step\n",
      "1/1 [==============================] - 0s 15ms/step\n",
      "1/1 [==============================] - 0s 20ms/step\n",
      "1/1 [==============================] - 0s 16ms/step\n",
      "1/1 [==============================] - 0s 22ms/step\n",
      "1/1 [==============================] - 0s 15ms/step\n",
      "1/1 [==============================] - 0s 20ms/step\n",
      "1/1 [==============================] - 0s 30ms/step\n",
      "1/1 [==============================] - 0s 24ms/step\n",
      "1/1 [==============================] - 0s 17ms/step\n",
      "1/1 [==============================] - 0s 26ms/step\n",
      "1/1 [==============================] - 0s 21ms/step\n",
      "1/1 [==============================] - 0s 27ms/step\n",
      "1/1 [==============================] - 0s 24ms/step\n",
      "1/1 [==============================] - 0s 16ms/step\n",
      "1/1 [==============================] - 0s 21ms/step\n",
      "1/1 [==============================] - 0s 16ms/step\n",
      "1/1 [==============================] - 0s 22ms/step\n",
      "1/1 [==============================] - 0s 16ms/step\n",
      "1/1 [==============================] - 0s 25ms/step\n",
      "1/1 [==============================] - 0s 21ms/step\n",
      "1/1 [==============================] - 0s 27ms/step\n",
      "1/1 [==============================] - 0s 22ms/step\n",
      "1/1 [==============================] - 0s 28ms/step\n",
      "1/1 [==============================] - 0s 24ms/step\n",
      "1/1 [==============================] - 0s 16ms/step\n",
      "1/1 [==============================] - 0s 20ms/step\n",
      "1/1 [==============================] - 0s 29ms/step\n",
      "1/1 [==============================] - 0s 24ms/step\n",
      "1/1 [==============================] - 0s 16ms/step\n",
      "1/1 [==============================] - 0s 25ms/step\n",
      "1/1 [==============================] - 0s 21ms/step\n",
      "1/1 [==============================] - 0s 27ms/step\n",
      "1/1 [==============================] - 0s 19ms/step\n",
      "1/1 [==============================] - 0s 28ms/step\n",
      "1/1 [==============================] - 0s 23ms/step\n",
      "1/1 [==============================] - 0s 16ms/step\n",
      "1/1 [==============================] - 0s 21ms/step\n",
      "1/1 [==============================] - 0s 16ms/step\n"
     ]
    },
    {
     "name": "stderr",
     "output_type": "stream",
     "text": [
      "No artists with labels found to put in legend.  Note that artists whose label start with an underscore are ignored when legend() is called with no argument.\n"
     ]
    },
    {
     "data": {
      "text/plain": [
       "<matplotlib.legend.Legend at 0x1e228edb510>"
      ]
     },
     "execution_count": 9,
     "metadata": {},
     "output_type": "execute_result"
    },
    {
     "data": {
      "image/png": "[encoded data removed]",
      "text/plain": [
       "<Figure size 640x480 with 1 Axes>"
      ]
     },
     "metadata": {},
     "output_type": "display_data"
    }
   ],
   "source": [
    "import numpy as np\n",
    "import cv2\n",
    "\n",
    "n = input('Give the number of rounds: ')\n",
    "choices = ['rock', 'scissors', 'paper']\n",
    "score = 0\n",
    "right_recognition = 0\n",
    "wrong_recognition = 0\n",
    "txt = 'results_cnn.txt'\n",
    "t = []\n",
    "score_l = []\n",
    "with open(txt,'w') as f:\n",
    "    for i in range(int(n)):\n",
    "        r = np.random.randint(0, len(x_test))\n",
    "        preprocessed_image = preprocess_image(x_test[r])\n",
    "        r_label = y_test[r]\n",
    "\n",
    "        pred = np.argmax(best_model_cnn.predict(preprocessed_image.reshape(1, 2400)))\n",
    "        print('',file=f)\n",
    "        print(f'Round {i+1}',file=f)\n",
    "\n",
    "        if pred == 0:\n",
    "            my_agent = 2\n",
    "        elif pred == 1:\n",
    "            my_agent = 0\n",
    "        else:\n",
    "            my_agent = 1\n",
    "        \n",
    "        t.append(i)\n",
    "        \n",
    "        if r_label == pred:\n",
    "            print('Right recognition',file=f)\n",
    "            score += 1\n",
    "            right_recognition+=1\n",
    "        else:\n",
    "            print('Wrong recognition',file=f)\n",
    "            wrong_recognition+=1\n",
    "            if my_agent != r_label:\n",
    "                score -= 1\n",
    "        score_l.append(score)\n",
    "        print(f\"The prediction of my agent is '{choices[pred]}'\",file=f)\n",
    "\n",
    "\n",
    "        print(f\"The choice of the random agent is '{choices[r_label]}'\",file=f)\n",
    "\n",
    "        print(10*\"==\"+'end of round'+10*\"==\",file=f)\n",
    "    \n",
    "    print('',file=f)\n",
    "    print(f'The score of agent is {score}',file=f)\n",
    "    print(f'Right recognitions are {right_recognition}',file=f)\n",
    "    print(f'Wrong recognitions are {wrong_recognition}',file=f)\n",
    "# Plotting the data\n",
    "plt.plot(t, score_l)\n",
    "\n",
    "# Adding labels to the axes\n",
    "plt.xlabel('Round')\n",
    "plt.ylabel('Score')\n",
    "\n",
    "# Adding a title to the plot\n",
    "plt.title('Score Diagram')\n",
    "\n",
    "# Adding a legend (optional)\n",
    "plt.legend()\n"
   ]
  },
  {
   "cell_type": "code",
   "execution_count": 14,
   "id": "489c9e0b",
   "metadata": {},
   "outputs": [
    {
     "ename": "NameError",
     "evalue": "name 'x_test_flattened' is not defined",
     "output_type": "error",
     "traceback": [
      "\u001b[1;31m---------------------------------------------------------------------------\u001b[0m",
      "\u001b[1;31mNameError\u001b[0m                                 Traceback (most recent call last)",
      "Cell \u001b[1;32mIn[14], line 1\u001b[0m\n\u001b[1;32m----> 1\u001b[0m x_test_flattened\u001b[38;5;241m.\u001b[39mshape\n",
      "\u001b[1;31mNameError\u001b[0m: name 'x_test_flattened' is not defined"
     ]
    }
   ],
   "source": [
    "x_test_flattened.shape"
   ]
  },
  {
   "cell_type": "code",
   "execution_count": 15,
   "id": "71e5b435",
   "metadata": {
    "scrolled": false
   },
   "outputs": [
    {
     "name": "stdout",
     "output_type": "stream",
     "text": [
      "Best Configuration: {'n_neighbors': 10, 'weights': 'distance', 'p': 2}\n",
      "Best Accuracy: 0.3378995433789954\n"
     ]
    }
   ],
   "source": [
    "#KNN\n",
    "\n",
    "from sklearn.model_selection import GridSearchCV\n",
    "from sklearn.neighbors import KNeighborsClassifier\n",
    "from sklearn.model_selection import train_test_split\n",
    "from sklearn.metrics import accuracy_score\n",
    "\n",
    "\n",
    "\n",
    "# Define the KNN classifier\n",
    "knn = KNeighborsClassifier()\n",
    "\n",
    "# Define the parameter grid to search\n",
    "\n",
    "n_neighbors = [3, 5, 7, 10]\n",
    "weights = ['uniform', 'distance']\n",
    "p_s = [1, 2]  # 1 for Manhattan distance, 2 for Euclidean distance\n",
    "best_accuracy = -1\n",
    "for nn in n_neighbors:\n",
    "    for weight in weights:\n",
    "        for p in p_s:\n",
    "            # Create KNN classifier with current hyperparameters\n",
    "            knn = KNeighborsClassifier(n_neighbors=nn, weights=weight, p=p)\n",
    "            \n",
    "            # Train the model\n",
    "            knn.fit(x_train_flattened, y_train)\n",
    "            \n",
    "            # Make predictions on the test set\n",
    "            y_pred = knn.predict(x_test.reshape(len(x_test),-1))\n",
    "            \n",
    "            # Calculate accuracy\n",
    "            accuracy = accuracy_score(y_test, y_pred)\n",
    "            \n",
    "            # Update best configuration if the current one is better\n",
    "            if accuracy > best_accuracy:\n",
    "                best_accuracy = accuracy\n",
    "                best_config = {'n_neighbors': nn, 'weights': weight, 'p': p}\n",
    "\n",
    "# Print the best configuration and accuracy\n",
    "print(\"Best Configuration:\", best_config)\n",
    "print(\"Best Accuracy:\", best_accuracy)"
   ]
  },
  {
   "cell_type": "code",
   "execution_count": 7,
   "id": "2b5c5764",
   "metadata": {},
   "outputs": [
    {
     "name": "stdout",
     "output_type": "stream",
     "text": [
      "Give the number of rounds: 100\n"
     ]
    },
    {
     "name": "stderr",
     "output_type": "stream",
     "text": [
      "No artists with labels found to put in legend.  Note that artists whose label start with an underscore are ignored when legend() is called with no argument.\n"
     ]
    },
    {
     "data": {
      "text/plain": [
       "<matplotlib.legend.Legend at 0x25bc68d0850>"
      ]
     },
     "execution_count": 7,
     "metadata": {},
     "output_type": "execute_result"
    },
    {
     "data": {
      "image/png": "[encoded data removed]",
      "text/plain": [
       "<Figure size 640x480 with 1 Axes>"
      ]
     },
     "metadata": {},
     "output_type": "display_data"
    }
   ],
   "source": [
    "import numpy as np\n",
    "import cv2\n",
    "from sklearn.model_selection import GridSearchCV\n",
    "from sklearn.neighbors import KNeighborsClassifier\n",
    "from sklearn.model_selection import train_test_split\n",
    "from sklearn.metrics import accuracy_score\n",
    "n = input('Give the number of rounds: ')\n",
    "choices = ['rock', 'scissors', 'paper']\n",
    "score = 0\n",
    "right_recognition = 0\n",
    "wrong_recognition = 0\n",
    "txt = 'results_knn.txt'\n",
    "t = []\n",
    "score_l = []\n",
    "knn = KNeighborsClassifier(n_neighbors=10, weights='distance', p=2)\n",
    "knn.fit(x_train_flattened,y_train)\n",
    "with open(txt,'w') as f:\n",
    "    for i in range(int(n)):\n",
    "        r = np.random.randint(0, len(x_test))\n",
    "        preprocessed_image = preprocess_image(x_test[r])\n",
    "        r_label = y_test[r]\n",
    "        \n",
    "        pred = knn.predict(preprocessed_image.reshape(1,2400))[0]\n",
    "        print('',file=f)\n",
    "        print(f'Round {i+1}',file=f)\n",
    "\n",
    "        if pred == 0:\n",
    "            my_agent = 2\n",
    "        elif pred == 1:\n",
    "            my_agent = 0\n",
    "        else:\n",
    "            my_agent = 1\n",
    "        \n",
    "        t.append(i)\n",
    "        \n",
    "        if r_label == pred:\n",
    "            print('Right recognition',file=f)\n",
    "            score += 1\n",
    "            right_recognition+=1\n",
    "        else:\n",
    "            print('Wrong recognition',file=f)\n",
    "            wrong_recognition+=1\n",
    "            if my_agent != r_label:\n",
    "                score -= 1\n",
    "        score_l.append(score)\n",
    "        print(f\"The prediction of my agent is '{choices[pred]}'\",file=f)\n",
    "\n",
    "\n",
    "        print(f\"The choice of the random agent is '{choices[r_label]}'\",file=f)\n",
    "\n",
    "        print(10*\"==\"+'end of round'+10*\"==\",file=f)\n",
    "    \n",
    "    print('',file=f)\n",
    "    print(f'The score of agent is {score}',file=f)\n",
    "    print(f'Right recognitions are {right_recognition}',file=f)\n",
    "    print(f'Wrong recognitions are {wrong_recognition}',file=f)\n",
    "# Plotting the data\n",
    "plt.plot(t, score_l)\n",
    "\n",
    "# Adding labels to the axes\n",
    "plt.xlabel('Round')\n",
    "plt.ylabel('Score')\n",
    "\n",
    "# Adding a title to the plot\n",
    "plt.title('Score Diagram')\n",
    "\n",
    "# Adding a legend (optional)\n",
    "plt.legend()\n"
   ]
  },
  {
   "cell_type": "code",
   "execution_count": 11,
   "id": "3da66d30",
   "metadata": {},
   "outputs": [
    {
     "name": "stdout",
     "output_type": "stream",
     "text": [
      "Requirement already satisfied: threadpoolctl in c:\\users\\yorgos\\anaconda3\\lib\\site-packages (2.2.0)\n",
      "Collecting threadpoolctl\n",
      "  Downloading threadpoolctl-3.2.0-py3-none-any.whl.metadata (10.0 kB)\n",
      "Downloading threadpoolctl-3.2.0-py3-none-any.whl (15 kB)\n",
      "Installing collected packages: threadpoolctl\n",
      "  Attempting uninstall: threadpoolctl\n",
      "    Found existing installation: threadpoolctl 2.2.0\n",
      "    Uninstalling threadpoolctl-2.2.0:\n",
      "      Successfully uninstalled threadpoolctl-2.2.0\n",
      "Successfully installed threadpoolctl-3.2.0\n",
      "Note: you may need to restart the kernel to use updated packages.\n"
     ]
    },
    {
     "name": "stderr",
     "output_type": "stream",
     "text": [
      "\n",
      "[notice] A new release of pip is available: 23.3.1 -> 23.3.2\n",
      "[notice] To update, run: python.exe -m pip install --upgrade pip\n"
     ]
    }
   ],
   "source": [
    "pip install --upgrade threadpoolctl"
   ]
  },
  {
   "cell_type": "code",
   "execution_count": 14,
   "id": "398ba139",
   "metadata": {},
   "outputs": [
    {
     "name": "stdout",
     "output_type": "stream",
     "text": [
      "ok with the paper\n"
     ]
    }
   ],
   "source": [
    "\n",
    "rf_model = RandomForestClassifier(max_depth = 20,min_samples_leaf= 1,min_samples_split= 2,n_estimators= 200)\n",
    "rf_model.fit(x_train_flattened,y_train)\n",
    "image_ch = ['rock','scissors','paper']\n",
    "folder_path = './'\n",
    "for ch in image_ch:\n",
    "    image_file = f'{ch}.jpg'\n",
    "    image_path = os.path.join(folder_path, image_file)\n",
    "    original_image = cv2.imread(image_path, cv2.IMREAD_GRAYSCALE)\n",
    "\n",
    "    target_width = 60\n",
    "    target_height = 40\n",
    "\n",
    "    # Resize the image while maintaining the aspect ratio\n",
    "    resized_image = cv2.resize(original_image, (target_width, target_height))\n",
    "    pred = rf_model.predict(resized_image.flatten().reshape(1, -1))\n",
    "    \n",
    "    if ch =='rock' and pred == 0:\n",
    "        print('ok with the rock')\n",
    "    elif ch =='scissors' and pred == 1:\n",
    "        print('ok with the scissors')\n",
    "    elif ch =='paper' and pred == 2:\n",
    "        print('ok with the paper')"
   ]
  },
  {
   "cell_type": "code",
   "execution_count": 59,
   "id": "1ffa61d8",
   "metadata": {},
   "outputs": [
    {
     "data": {
      "text/plain": [
       "(589, 325)"
      ]
     },
     "execution_count": 59,
     "metadata": {},
     "output_type": "execute_result"
    }
   ],
   "source": [
    "original_image.shape"
   ]
  },
  {
   "cell_type": "code",
   "execution_count": 62,
   "id": "47597c9f",
   "metadata": {},
   "outputs": [
    {
     "data": {
      "text/plain": [
       "(108, 60)"
      ]
     },
     "execution_count": 62,
     "metadata": {},
     "output_type": "execute_result"
    }
   ],
   "source": [
    "resized_image.shape"
   ]
  },
  {
   "cell_type": "code",
   "execution_count": 73,
   "id": "25497e0d",
   "metadata": {},
   "outputs": [],
   "source": [
    "resized_image_n = resized_image/255.0"
   ]
  },
  {
   "cell_type": "code",
   "execution_count": 74,
   "id": "5bf8a23c",
   "metadata": {},
   "outputs": [],
   "source": [
    "pred = np.argmax(model_nn.predict(resized_image_n.flatten().reshape(1, -1), verbose=0))"
   ]
  },
  {
   "cell_type": "code",
   "execution_count": 75,
   "id": "87f7c559",
   "metadata": {},
   "outputs": [
    {
     "data": {
      "text/plain": [
       "0"
      ]
     },
     "execution_count": 75,
     "metadata": {},
     "output_type": "execute_result"
    }
   ],
   "source": [
    "pred"
   ]
  },
  {
   "cell_type": "code",
   "execution_count": 18,
   "id": "336a2203",
   "metadata": {},
   "outputs": [
    {
     "name": "stdout",
     "output_type": "stream",
     "text": [
      "^C\n",
      "Note: you may need to restart the kernel to use updated packages.\n"
     ]
    }
   ],
   "source": [
    "pip uninstall scikit-learn"
   ]
  },
  {
   "cell_type": "code",
   "execution_count": 19,
   "id": "fbfcbe7a",
   "metadata": {},
   "outputs": [
    {
     "name": "stdout",
     "output_type": "stream",
     "text": [
      "Requirement already satisfied: scikit-learn in c:\\users\\yorgos\\anaconda3\\lib\\site-packages (1.3.0)\n",
      "Requirement already satisfied: numpy>=1.17.3 in c:\\users\\yorgos\\anaconda3\\lib\\site-packages (from scikit-learn) (1.23.5)\n",
      "Requirement already satisfied: scipy>=1.5.0 in c:\\users\\yorgos\\anaconda3\\lib\\site-packages (from scikit-learn) (1.11.1)\n",
      "Requirement already satisfied: joblib>=1.1.1 in c:\\users\\yorgos\\anaconda3\\lib\\site-packages (from scikit-learn) (1.1.1)\n",
      "Requirement already satisfied: threadpoolctl>=2.0.0 in c:\\users\\yorgos\\anaconda3\\lib\\site-packages (from scikit-learn) (3.2.0)\n",
      "Note: you may need to restart the kernel to use updated packages.\n"
     ]
    },
    {
     "name": "stderr",
     "output_type": "stream",
     "text": [
      "\n",
      "[notice] A new release of pip is available: 23.3.1 -> 23.3.2\n",
      "[notice] To update, run: python.exe -m pip install --upgrade pip\n"
     ]
    }
   ],
   "source": [
    "pip install scikit-learn"
   ]
  },
  {
   "cell_type": "code",
   "execution_count": null,
   "id": "2147bf54",
   "metadata": {},
   "outputs": [],
   "source": []
  }
 ],
 "metadata": {
  "kernelspec": {
   "display_name": "Python 3 (ipykernel)",
   "language": "python",
   "name": "python3"
  },
  "language_info": {
   "codemirror_mode": {
    "name": "ipython",
    "version": 3
   },
   "file_extension": ".py",
   "mimetype": "text/x-python",
   "name": "python",
   "nbconvert_exporter": "python",
   "pygments_lexer": "ipython3",
   "version": "3.11.5"
  }
 },
 "nbformat": 4,
 "nbformat_minor": 5
}
